{
  "nbformat": 4,
  "nbformat_minor": 0,
  "metadata": {
    "kernelspec": {
      "display_name": "Python 3",
      "language": "python",
      "name": "python3"
    },
    "language_info": {
      "codemirror_mode": {
        "name": "ipython",
        "version": 3
      },
      "file_extension": ".py",
      "mimetype": "text/x-python",
      "name": "python",
      "nbconvert_exporter": "python",
      "pygments_lexer": "ipython3",
      "version": "3.8.5"
    },
    "colab": {
      "name": "吳秉霖A109010082-Week10+分組名單-作業 (4).ipynb",
      "provenance": [],
      "include_colab_link": true
    }
  },
  "cells": [
    {
      "cell_type": "markdown",
      "metadata": {
        "id": "view-in-github",
        "colab_type": "text"
      },
      "source": [
        "<a href=\"https://colab.research.google.com/github/A109010082/Computational-Thinking-and-Program-Design/blob/main/%E5%90%B3%E7%A7%89%E9%9C%96A109010082_Week10%2B%E5%88%86%E7%B5%84%E5%90%8D%E5%96%AE_%E4%BD%9C%E6%A5%AD_(4).ipynb\" target=\"_parent\"><img src=\"https://colab.research.google.com/assets/colab-badge.svg\" alt=\"Open In Colab\"/></a>"
      ]
    },
    {
      "cell_type": "markdown",
      "metadata": {
        "id": "Ta4urPMdLdUL"
      },
      "source": [
        "# 基本程式設計(應用篇)"
      ]
    },
    {
      "cell_type": "markdown",
      "metadata": {
        "id": "H6m8E-jKLdUO"
      },
      "source": [
        "### 4-2 運算思維四個基石"
      ]
    },
    {
      "cell_type": "markdown",
      "metadata": {
        "id": "M6rdEaNDLdUO"
      },
      "source": [
        "#### 4-2-4  問題拆解 - 打造你的聊天機器人"
      ]
    },
    {
      "cell_type": "markdown",
      "metadata": {
        "id": "J5rRqTceLdUO"
      },
      "source": [
        "「哈囉，大家好。我叫Zyxo64，是一個聊天機器人。\n",
        "\n",
        "在嗜好與興趣方面，我很喜歡美食，也喜歡養動物。\n",
        "\n",
        "很高興有機會來到世新大學，請大家多多指教。\n",
        "\n",
        "嗨！妳好，請問大名？：Francis。\n",
        "\n",
        "Francis，很高興認識你。"
      ]
    },
    {
      "cell_type": "code",
      "metadata": {
        "colab": {
          "base_uri": "https://localhost:8080/"
        },
        "id": "c70vCE2sLdUO",
        "outputId": "ace9abb9-860a-470e-869b-c642d4b2b665"
      },
      "source": [
        "# 1.聊天機器人自我介紹\n",
        "print(\"哈囉，大家好。我叫Zyxo64，是一個聊天機器人。\") \n",
        "print(\"在嗜好與興趣方面，我很喜歡美食，也喜歡養動物。\")\n",
        "print(\"很高興有機會來到世新大學，請大家多多指教。\")\n",
        "\n",
        "# 2. 打招呼，取得對方名字\n",
        "print(\"嗨！妳好，請問大名？：Francis。\")\n",
        "\n",
        "print(\"Francis，很高興認識你。\")"
      ],
      "execution_count": 7,
      "outputs": [
        {
          "output_type": "stream",
          "text": [
            "哈囉，大家好。我叫Zyxo64，是一個聊天機器人。\n",
            "在嗜好與興趣方面，我很喜歡美食，也喜歡養動物。\n",
            "很高興有機會來到世新大學，請大家多多指教。\n",
            "嗨！妳好，請問大名？：Francis。\n",
            "Francis，很高興認識你。\n"
          ],
          "name": "stdout"
        }
      ]
    },
    {
      "cell_type": "code",
      "metadata": {
        "colab": {
          "base_uri": "https://localhost:8080/"
        },
        "id": "4RofEAyhPNtT",
        "outputId": "186e2b25-2f41-4c2c-e289-3676d2391026"
      },
      "source": [
        "print(\"嗨！妳好\")\n",
        "name = input(\"請問大名？\")\n",
        "\n",
        "print(f\"{name}，很高興認識你。\")"
      ],
      "execution_count": 10,
      "outputs": [
        {
          "output_type": "stream",
          "text": [
            "嗨！妳好\n",
            "請問大名？Frank\n",
            "Frank，很高興認識你。\n"
          ],
          "name": "stdout"
        }
      ]
    },
    {
      "cell_type": "markdown",
      "metadata": {
        "id": "IJ7J0YpeLdUP"
      },
      "source": [
        "抱歉，請問一下今年是西元2021年，那是民國幾年呢？：*110*。\n",
        "\n",
        "對！沒錯，謝謝妳！\n",
        "\n",
        "**Francis**，猜猜看我今年幾歲？ ：**18**。\n",
        "\n",
        "哇！你好聰明，我今年的確*18*。\n",
        "\n",
        "再82年我就100歲了。\n",
        "\n",
        "那時候是西元 2103年，也就是民國192年囉！"
      ]
    },
    {
      "cell_type": "code",
      "metadata": {
        "colab": {
          "base_uri": "https://localhost:8080/"
        },
        "id": "yYg6TNmPLdUP",
        "outputId": "6da56697-3176-4c3c-81ee-12ce5208b150"
      },
      "source": [
        "# 3. 數學運算\n",
        "## 3-1 從使用者取得今年年份\n",
        "\n",
        "year = input(\"請問一下今年是西元2021年，那是民國幾年呢?\")\n",
        "\n",
        "\n",
        "\n",
        "print(\"對!沒錯，謝謝你!\")\n",
        "\n",
        "## 3-2 請使用者猜年齡\n",
        "age = input(\"猜猜看我今年幾歲?\")\n",
        "print(f\"挖你好聰明，我今年的確{age}\")\n",
        "\n",
        "## 3-3 計算聊天機器人滿100歲的年份\n",
        "year = int(year)\n",
        "age = int(age)\n",
        "print(f\"再{100-age}年我就100歲了\")\n",
        "time = year + 1911 + (100-age)\n",
        "print(f\"那時候是西元{time}，也就是民國{time - 1911}\")\n",
        "\n"
      ],
      "execution_count": 34,
      "outputs": [
        {
          "output_type": "stream",
          "text": [
            "請問一下今年是西元2021年，那是民國幾年呢?84\n",
            "對!沒錯，謝謝你!\n",
            "猜猜看我今年幾歲?44\n",
            "挖你好聰明，我今年的確44\n",
            "再56年我就100歲了\n",
            "那時候是西元2051，也就是民國140\n"
          ],
          "name": "stdout"
        }
      ]
    },
    {
      "cell_type": "markdown",
      "metadata": {
        "id": "amzewjmdLdUP"
      },
      "source": [
        "我喜歡吃巧克力，也喜歡嘗試各種新食物。\n",
        "\n",
        "你呢？你最喜歡的食物是什麼？**:披薩**。\n",
        "\n",
        "我也喜歡 *披薩*。\n",
        "\n",
        "你多久吃一次 *披薩*？**：每天**。\n",
        "\n",
        "真有趣。不知道這樣對健康好不好。"
      ]
    },
    {
      "cell_type": "code",
      "metadata": {
        "colab": {
          "base_uri": "https://localhost:8080/"
        },
        "id": "9upivNy9LdUQ",
        "outputId": "aea35575-0383-4acb-eb09-52c6c3bb471f"
      },
      "source": [
        "# 4 興趣\n",
        "print(\"我喜歡吃巧克力，也喜歡嘗試各種新食物\")\n",
        "food = input(\"你呢?你最喜歡的食物是甚麼?\")\n",
        "print(f\"我也喜歡{food}\")\n",
        "day = input(\"你多久吃一次\"+ food+\"?\")\n",
        "print(\"真有趣\")\n",
        "## 4-1 食物話題\n"
      ],
      "execution_count": 48,
      "outputs": [
        {
          "output_type": "stream",
          "text": [
            "我喜歡吃巧克力，也喜歡嘗試各種新食物\n",
            "你呢?你最喜歡的食物是甚麼?s\n",
            "我也喜歡s\n",
            "你多久吃一次s?s\n",
            "真有趣\n"
          ],
          "name": "stdout"
        }
      ]
    },
    {
      "cell_type": "markdown",
      "metadata": {
        "id": "n4c_oq4ELdUQ"
      },
      "source": [
        "我最喜歡的動物是長頸鹿。你呢？ **：烏龜**。\n",
        "\n",
        "我不喜歡*烏龜*！\n",
        "\n",
        "不知道 *烏龜* 喜不喜歡吃 *披薩*？"
      ]
    },
    {
      "cell_type": "code",
      "metadata": {
        "colab": {
          "base_uri": "https://localhost:8080/"
        },
        "id": "ZXZCqaMMLdUQ",
        "outputId": "c9b3ba64-038f-45d4-b4be-05d3bcb02462"
      },
      "source": [
        "# 4 興趣\n",
        "animal = input(\"我最喜歡的動物是長頸鹿，你呢?\")\n",
        "print(f\"我不喜歡{animal}\")\n",
        "print(f\"不知道{animal}喜不喜歡吃{food}\")\n",
        "## 4-2 動物話題\n"
      ],
      "execution_count": 49,
      "outputs": [
        {
          "output_type": "stream",
          "text": [
            "我最喜歡的動物是長頸鹿，你呢?s\n",
            "我不喜歡s\n",
            "不知道s喜不喜歡吃s\n"
          ],
          "name": "stdout"
        }
      ]
    },
    {
      "cell_type": "markdown",
      "metadata": {
        "id": "jiPUXALSLdUQ"
      },
      "source": [
        "你今天的心情如何？ **：很開心**。\n",
        "\n",
        "可以告訴我你 *開心* 的原因嗎？**因為週末了！** \n",
        "\n",
        "祝你週末愉快！\n",
        "\n",
        "我喜歡跟你聊天，現在有點累了，改天再聊吧！！\n",
        "\n",
        "再見 *Francis*！"
      ]
    },
    {
      "cell_type": "code",
      "metadata": {
        "colab": {
          "base_uri": "https://localhost:8080/"
        },
        "id": "d-z-_Ah-LdUR",
        "outputId": "501cb1b9-78cc-4b5e-e8fa-c7ec0c0c12dc"
      },
      "source": [
        "# 5. 關於心情的對話\n",
        "mood = input (\"你今天的心情如何\")\n",
        "print(f\"可以告訴我你{mood}的原因嗎\")\n",
        "reason = input (\"why?\")\n",
        "print(\"祝你週末愉快\")\n"
      ],
      "execution_count": 53,
      "outputs": [
        {
          "output_type": "stream",
          "text": [
            "你今天的心情如何55\n",
            "可以告訴我你55的原因嗎\n",
            "why?5\n",
            "\n"
          ],
          "name": "stdout"
        }
      ]
    },
    {
      "cell_type": "markdown",
      "metadata": {
        "id": "NSclLAftLdUR"
      },
      "source": [
        "我喜歡跟你聊天，現在有點累了，改天再聊吧！！\n",
        "\n",
        "再見 *Francis*！"
      ]
    },
    {
      "cell_type": "code",
      "metadata": {
        "id": "SYdtDIcCLdUR"
      },
      "source": [
        "# 6. 道別\n",
        "print(\"我喜歡跟你聊天，現在有點累了，改天再聊吧！！\")\n",
        "print(\"再見 Francis！\")\n"
      ],
      "execution_count": null,
      "outputs": []
    },
    {
      "cell_type": "markdown",
      "metadata": {
        "id": "nTUWt-ibLdUR"
      },
      "source": [
        "## 期末報告"
      ]
    },
    {
      "cell_type": "markdown",
      "metadata": {
        "id": "XcTNpL1QLdUR"
      },
      "source": [
        "### 組長(學號姓名):吳秉霖A1090082\n",
        "\n",
        "\n"
      ]
    },
    {
      "cell_type": "markdown",
      "metadata": {
        "id": "X_uVKShNLdUR"
      },
      "source": [
        "### 組員(學號姓名):巫偉銘 A109010118\n",
        "\n"
      ]
    },
    {
      "cell_type": "markdown",
      "metadata": {
        "id": "U-F9wZapLdUS"
      },
      "source": [
        "### 題目:小華的一天"
      ]
    },
    {
      "cell_type": "markdown",
      "metadata": {
        "id": "FZX9jhNwLdUS"
      },
      "source": [
        "### 百字腳本\n",
        "小華剛起床，準備去上學，而在平時，小華一有問題就會詢問手機上的機器人，以此來得到快速的解答並消除自己內心的疑惑，而今天也是一如往常的一天。\n"
      ]
    }
  ]
}