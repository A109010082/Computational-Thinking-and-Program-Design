{
  "nbformat": 4,
  "nbformat_minor": 0,
  "metadata": {
    "colab": {
      "name": "吳秉霖-week5.ipynb",
      "provenance": [],
      "authorship_tag": "ABX9TyPoqYNAfDD2LiwpBWhxC/Sx",
      "include_colab_link": true
    },
    "kernelspec": {
      "name": "python3",
      "display_name": "Python 3"
    },
    "language_info": {
      "name": "python"
    }
  },
  "cells": [
    {
      "cell_type": "markdown",
      "metadata": {
        "id": "view-in-github",
        "colab_type": "text"
      },
      "source": [
        "<a href=\"https://colab.research.google.com/github/A109010082/Computational-Thinking-and-Program-Design/blob/main/%E5%90%B3%E7%A7%89%E9%9C%96_week5.ipynb\" target=\"_parent\"><img src=\"https://colab.research.google.com/assets/colab-badge.svg\" alt=\"Open In Colab\"/></a>"
      ]
    },
    {
      "cell_type": "markdown",
      "metadata": {
        "id": "aqnqUwCmoi8u"
      },
      "source": [
        "練習\n"
      ]
    },
    {
      "cell_type": "code",
      "metadata": {
        "colab": {
          "base_uri": "https://localhost:8080/"
        },
        "id": "_8klKRm1okGm",
        "outputId": "4eef21a7-ed5f-44b4-a518-d7b1e37f1574"
      },
      "source": [
        "s1='春眠不覺曉，處處聞啼鳥'\n",
        "print(s1)\n",
        "s2='夜來風雨聲，花落知多少。'\n",
        "print(s2)"
      ],
      "execution_count": 5,
      "outputs": [
        {
          "output_type": "stream",
          "text": [
            "春眠不覺曉，處處聞啼鳥\n",
            "夜來風雨聲，花落知多少。\n"
          ],
          "name": "stdout"
        }
      ]
    },
    {
      "cell_type": "code",
      "metadata": {
        "colab": {
          "base_uri": "https://localhost:8080/"
        },
        "id": "-TG5oZ82qHrh",
        "outputId": "f4398061-a0dd-4d3a-e127-ee9b50cd7793"
      },
      "source": [
        "A=2\n",
        "B=1\n",
        "C=3\n",
        "D=6\n",
        "sum=A+B+C+D\n",
        "sum"
      ],
      "execution_count": 19,
      "outputs": [
        {
          "output_type": "execute_result",
          "data": {
            "text/plain": [
              "12"
            ]
          },
          "metadata": {
            "tags": []
          },
          "execution_count": 19
        }
      ]
    },
    {
      "cell_type": "markdown",
      "metadata": {
        "id": "-zBN6PgZof2R"
      },
      "source": [
        ""
      ]
    }
  ]
}