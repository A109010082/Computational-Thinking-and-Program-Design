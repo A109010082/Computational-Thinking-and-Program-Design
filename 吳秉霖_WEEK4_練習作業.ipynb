{
  "nbformat": 4,
  "nbformat_minor": 0,
  "metadata": {
    "colab": {
      "name": "吳秉霖-WEEK4-練習作業.ipynb",
      "provenance": [],
      "collapsed_sections": [],
      "authorship_tag": "ABX9TyO+kmamCNEG34UDMVkkf5dj",
      "include_colab_link": true
    },
    "kernelspec": {
      "name": "python3",
      "display_name": "Python 3"
    }
  },
  "cells": [
    {
      "cell_type": "markdown",
      "metadata": {
        "id": "view-in-github",
        "colab_type": "text"
      },
      "source": [
        "<a href=\"https://colab.research.google.com/github/A109010082/Computational-Thinking-and-Program-Design/blob/main/%E5%90%B3%E7%A7%89%E9%9C%96_WEEK4_%E7%B7%B4%E7%BF%92%E4%BD%9C%E6%A5%AD.ipynb\" target=\"_parent\"><img src=\"https://colab.research.google.com/assets/colab-badge.svg\" alt=\"Open In Colab\"/></a>"
      ]
    },
    {
      "cell_type": "markdown",
      "metadata": {
        "id": "ChTEj3qCgHhF"
      },
      "source": [
        "# 隨堂練習"
      ]
    },
    {
      "cell_type": "code",
      "metadata": {
        "colab": {
          "base_uri": "https://localhost:8080/"
        },
        "id": "mSsaYP0pgQHp",
        "outputId": "dc2ad42d-663e-42f2-e466-a7a43d74bedb"
      },
      "source": [
        "print(\"hello world\")"
      ],
      "execution_count": 1,
      "outputs": [
        {
          "output_type": "stream",
          "text": [
            "hello world\n"
          ],
          "name": "stdout"
        }
      ]
    },
    {
      "cell_type": "markdown",
      "metadata": {
        "id": "RNdqZuPOgI6p"
      },
      "source": [
        "#課後練習\r\n",
        "**從一則新聞報導，提出你對新聞系（OO系）學生為什麼要學「運算思維與程式設計」的見解。**\r\n",
        "\r\n",
        "[https://www.businessweekly.com.tw/business/blog/2053]\r\n",
        "由此報導中我們可以得知學習程式語言不僅能夠更加了解正在使用的新聞媒介，能夠使我更加了解正在使用的新聞媒介，也能夠讓我們掌握到更深層的知識。"
      ]
    },
    {
      "cell_type": "markdown",
      "metadata": {
        "id": "sauIhZE9hwIZ"
      },
      "source": [
        ""
      ]
    },
    {
      "cell_type": "code",
      "metadata": {
        "id": "wOGgo_jDhJEf"
      },
      "source": [
        ""
      ],
      "execution_count": null,
      "outputs": []
    }
  ]
}