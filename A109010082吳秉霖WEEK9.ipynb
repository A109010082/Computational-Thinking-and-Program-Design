{
  "nbformat": 4,
  "nbformat_minor": 0,
  "metadata": {
    "colab": {
      "name": "Untitled0.ipynb",
      "provenance": [],
      "authorship_tag": "ABX9TyPLtpd7Cim+uzg8X6FqBxmZ",
      "include_colab_link": true
    },
    "kernelspec": {
      "name": "python3",
      "display_name": "Python 3"
    },
    "language_info": {
      "name": "python"
    }
  },
  "cells": [
    {
      "cell_type": "markdown",
      "metadata": {
        "id": "view-in-github",
        "colab_type": "text"
      },
      "source": [
        "<a href=\"https://colab.research.google.com/github/A109010082/Computational-Thinking-and-Program-Design/blob/main/A109010082%E5%90%B3%E7%A7%89%E9%9C%96WEEK9.ipynb\" target=\"_parent\"><img src=\"https://colab.research.google.com/assets/colab-badge.svg\" alt=\"Open In Colab\"/></a>"
      ]
    },
    {
      "cell_type": "code",
      "metadata": {
        "colab": {
          "base_uri": "https://localhost:8080/",
          "height": 131
        },
        "id": "AnYl9Te9tg1-",
        "outputId": "df73b484-b05f-4d4a-87a1-ceb82caf2a5a"
      },
      "source": [
        "1 ## Input\n",
        "2 a,b,c,d,e,f = eval(input(\"6\"))\n",
        "3\n",
        "4\n",
        "5 ## Process + Output\n",
        "6\n",
        "7 a = a//3; b = b + a; f = f + a\n",
        "8# print(\"a =\", a , \"b =\", b, \"c =\", c, \"d =\", d, \"e =\", e,\"f =\",)\n",
        "9 print(f\"a = {a} b = {b} c = {c} d = {d} e = {e} f = {f}\")\n",
        "10\n",
        "11b = b//3; a = a + b; c = c + b\n",
        "12print(f\"a = {a} b = {b} c = {c} d = {d} e = {e} f ={f}\")\n",
        "13\n",
        "14c = c//3: b = b + c; d = d + c\n",
        "15print(f\"a = {a} b = {b} c = {c} d = {d} e = {e} f = {f}\")\n",
        "16\n",
        "17d = d//3; c= c + d; e = e + d\n",
        "18print(f\"a = {a} b = {b} c = {c} d = {d} e ={e} f = {f}\")\n",
        "19\n",
        "20e = e//3; d = d+ e; f = f + e\n",
        "21 print(f\"a = {a} b = {b} c = {c} d = {d} e ={e} f = {f}\")\n",
        "22"
      ],
      "execution_count": 2,
      "outputs": [
        {
          "output_type": "error",
          "ename": "SyntaxError",
          "evalue": "ignored",
          "traceback": [
            "\u001b[0;36m  File \u001b[0;32m\"<ipython-input-2-842f697011c5>\"\u001b[0;36m, line \u001b[0;32m2\u001b[0m\n\u001b[0;31m    2 a,b,c,d,e,f = eval(input(\"6\"))\u001b[0m\n\u001b[0m      ^\u001b[0m\n\u001b[0;31mSyntaxError\u001b[0m\u001b[0;31m:\u001b[0m invalid syntax\n"
          ]
        }
      ]
    },
    {
      "cell_type": "code",
      "metadata": {
        "id": "A8OJ6oMJ39s2"
      },
      "source": [
        ""
      ],
      "execution_count": null,
      "outputs": []
    }
  ]
}